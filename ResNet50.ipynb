{
  "nbformat": 4,
  "nbformat_minor": 0,
  "metadata": {
    "colab": {
      "provenance": []
    },
    "kernelspec": {
      "name": "python3",
      "display_name": "Python 3"
    },
    "language_info": {
      "name": "python"
    }
  },
  "cells": [
    {
      "cell_type": "code",
      "source": [
        "from google.colab import drive\n",
        "drive.mount('/content/drive')"
      ],
      "metadata": {
        "id": "_ej2nHrexf-Y"
      },
      "execution_count": null,
      "outputs": []
    },
    {
      "cell_type": "code",
      "execution_count": null,
      "metadata": {
        "id": "EZz9a6yJw32O"
      },
      "outputs": [],
      "source": [
        "import tensorflow as tf\n",
        "from keras.applications import ResNet50\n",
        "from keras import layers, models\n",
        "from keras.preprocessing.image import ImageDataGenerator\n",
        "from keras.callbacks import EarlyStopping\n",
        "from sklearn.metrics import classification_report\n",
        "\n",
        "# Define your dataset directories\n",
        "train_data_dir = \"/content/drive/MyDrive/Models/train\"\n",
        "validation_data_dir = \"/content/drive/MyDrive/Models/val\"\n",
        "batch_size = 32\n",
        "target_size = (224, 224)\n",
        "\n",
        "# Load pre-trained ResNet50 model with top (fully connected) layers\n",
        "base_model = ResNet50(weights='imagenet', include_top=True, input_shape=(224, 224, 3))\n",
        "\n",
        "# Freeze the convolutional layers\n",
        "for layer in base_model.layers:\n",
        "    layer.trainable = False\n",
        "\n",
        "num_classes = 20  # Number of classes in ImageNet\n",
        "\n",
        "# Create a custom top for the model\n",
        "x = base_model.layers[-2].output  # Use the second-to-last layer as the base\n",
        "x = layers.Dense(num_classes, activation='softmax')(x)\n",
        "\n",
        "# Create the final fine-tuned model\n",
        "model = models.Model(inputs=base_model.input, outputs=x)\n",
        "\n",
        "# Compile the model with additional metrics\n",
        "model.compile(optimizer='adam',\n",
        "              loss='categorical_crossentropy',\n",
        "              metrics=['accuracy',\n",
        "                       tf.keras.metrics.Precision(),\n",
        "                       tf.keras.metrics.Recall(),\n",
        "                       tf.keras.metrics.AUC(name='auc')])\n",
        "\n",
        "# Create data generators\n",
        "train_datagen = ImageDataGenerator(rescale=1./255)\n",
        "validation_datagen = ImageDataGenerator(rescale=1./255)\n",
        "\n",
        "train_generator = train_datagen.flow_from_directory(\n",
        "    train_data_dir,\n",
        "    target_size=target_size,\n",
        "    batch_size=batch_size,\n",
        "    class_mode='categorical'\n",
        ")\n",
        "\n",
        "validation_generator = validation_datagen.flow_from_directory(\n",
        "    validation_data_dir,\n",
        "    target_size=target_size,\n",
        "    batch_size=batch_size,\n",
        "    class_mode='categorical'\n",
        ")\n",
        "\n",
        "# Define EarlyStopping callback\n",
        "# early_stopping = EarlyStopping(monitor='val_loss', patience=5, min_delta=0.0001, restore_best_weights=True)\n",
        "\n",
        "# Train the model with EarlyStopping\n",
        "history = model.fit(\n",
        "    train_generator,\n",
        "    steps_per_epoch=train_generator.samples // batch_size,\n",
        "    epochs=500,\n",
        "    validation_data=validation_generator,\n",
        "    validation_steps=validation_generator.samples // batch_size,\n",
        "    # callbacks=[early_stopping]\n",
        ")\n",
        "\n",
        "# Save the model and weights\n",
        "model.save('fine_tuned_resnet50.h5')\n",
        "\n",
        "# Evaluate the model on the validation set\n",
        "y_true = validation_generator.classes\n",
        "y_pred = model.predict(validation_generator)\n",
        "\n",
        "# Convert predictions to class indices\n",
        "y_pred_classes = tf.argmax(y_pred, axis=1).numpy()\n",
        "\n",
        "# Calculate additional metrics\n",
        "classification_report_str = classification_report(y_true, y_pred_classes, target_names=validation_generator.class_indices.keys(), zero_division=1)\n",
        "\n",
        "# Print the classification report\n",
        "print(classification_report_str)\n"
      ]
    }
  ]
}